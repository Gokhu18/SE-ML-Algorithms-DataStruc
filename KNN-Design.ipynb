{
 "cells": [
  {
   "cell_type": "markdown",
   "metadata": {},
   "source": [
    "# Implementing K-N-N from scratch"
   ]
  },
  {
   "cell_type": "code",
   "execution_count": 2,
   "metadata": {},
   "outputs": [],
   "source": [
    "import numpy as np\n",
    "import pandas as pd\n",
    "from math import sqrt\n",
    "from IPython.display import Image"
   ]
  },
  {
   "cell_type": "markdown",
   "metadata": {},
   "source": [
    "Methods will include:\n",
    "     - Calculating min & max values of dataset\n",
    "     - Normalization\n",
    "     - Euclidean Distance\n",
    "     - Classification Prediction\n",
    "     \n",
    "The evaluation, accuracy metrics, cross validation splits and train test split methods will not be developed cause they are routine and no point in doing them everytime we are developing an algorithm from scratch. The point is to understand the core functionality that makes a technique different from any other.\n",
    "        "
   ]
  },
  {
   "cell_type": "code",
   "execution_count": 3,
   "metadata": {},
   "outputs": [],
   "source": [
    "def euclidean(x,y):\n",
    "    distance = 0.0\n",
    "    for i in range(len(x)-1):\n",
    "        distance += ((x[i]-y[i])**2)\n",
    "    return sqrt(distance)"
   ]
  },
  {
   "cell_type": "code",
   "execution_count": 4,
   "metadata": {},
   "outputs": [
    {
     "name": "stdout",
     "output_type": "stream",
     "text": [
      "[1.465489372, 2.362125076, 0]\n"
     ]
    }
   ],
   "source": [
    "dataset=[[1.465489372,2.362125076,0],\n",
    "        [3.396561688,4.400293529,0],\n",
    "        [1.38807019,1.850220317,0],\n",
    "        [3.06407232,3.005305973,0],\n",
    "        [7.627531214,2.759262235,1],\n",
    "        [5.332441248,2.088626775,1],\n",
    "        [6.922596716,1.77106367,1],\n",
    "        [8.675418651,-0.242068655,1],\n",
    "        [7.673756466,3.508563011,1]]\n",
    "\n",
    "print(dataset[0])"
   ]
  },
  {
   "cell_type": "code",
   "execution_count": 5,
   "metadata": {},
   "outputs": [
    {
     "name": "stdout",
     "output_type": "stream",
     "text": [
      "0.0\n",
      "2.80769851166859\n",
      "0.5177260009197887\n",
      "1.7231219074407058\n",
      "6.174826117844725\n",
      "3.876611681862114\n",
      "5.4890230596711325\n",
      "7.66582710454398\n",
      "6.313232155500879\n"
     ]
    }
   ],
   "source": [
    "try:\n",
    "    row0 = dataset[0]\n",
    "    for i in dataset:\n",
    "        distance = euclidean(row0, i)\n",
    "        print(distance)\n",
    "except:\n",
    "    print(\"Something's fucked! Dont be mad homie\")"
   ]
  },
  {
   "cell_type": "code",
   "execution_count": 6,
   "metadata": {},
   "outputs": [],
   "source": [
    "def target_split(dataset):\n",
    "    for i in range (len(dataset)-1):  \n",
    "        target = dataset[i][2]\n",
    "        print(target)\n",
    "    return target"
   ]
  },
  {
   "cell_type": "code",
   "execution_count": 7,
   "metadata": {},
   "outputs": [
    {
     "name": "stdout",
     "output_type": "stream",
     "text": [
      "[1.465489372, 2.362125076, 0]\n",
      "[1.465489372, 2.362125076, 0]\n",
      "[1.465489372, 2.362125076, 0]\n",
      "[1.465489372, 2.362125076, 0]\n",
      "[1.465489372, 2.362125076, 0]\n",
      "[1.465489372, 2.362125076, 0]\n",
      "[1.465489372, 2.362125076, 0]\n",
      "[1.465489372, 2.362125076, 0]\n"
     ]
    }
   ],
   "source": [
    "for i in range(len(dataset)-1):\n",
    "    list = dataset[0]\n",
    "    print(list)"
   ]
  },
  {
   "cell_type": "code",
   "execution_count": 8,
   "metadata": {},
   "outputs": [
    {
     "name": "stdout",
     "output_type": "stream",
     "text": [
      "0\n",
      "0\n",
      "0\n",
      "0\n",
      "1\n",
      "1\n",
      "1\n",
      "1\n"
     ]
    },
    {
     "data": {
      "text/plain": [
       "1"
      ]
     },
     "execution_count": 8,
     "metadata": {},
     "output_type": "execute_result"
    }
   ],
   "source": [
    "target_split(dataset)"
   ]
  },
  {
   "cell_type": "code",
   "execution_count": 9,
   "metadata": {},
   "outputs": [],
   "source": [
    "def min_max(dataset):\n",
    "    values = []   ## you can also do values = list(), but be careful sometimes it doesnt allow you to append to it\n",
    "    for i in range(len(dataset[0])):\n",
    "        columns = [row[i] for row in dataset] #an elegant line of code \n",
    "        minimum = min(columns)\n",
    "        maximum = max(columns)\n",
    "        values.append([minimum,maximum])\n",
    "    return values\n"
   ]
  },
  {
   "cell_type": "code",
   "execution_count": 10,
   "metadata": {},
   "outputs": [
    {
     "name": "stdout",
     "output_type": "stream",
     "text": [
      "[[1.38807019, 8.675418651], [-0.242068655, 4.400293529], [0, 1]]\n",
      "Min X value: 1.38807019\n",
      "Max X value: 8.675418651\n",
      "Min y value: -0.242068655\n",
      "Max y value: 4.400293529\n"
     ]
    }
   ],
   "source": [
    "data = min_max(dataset)\n",
    "print(data)\n",
    "print('Min X value:', data[0][0]) \n",
    "print('Max X value:', data[0][1])\n",
    "print('Min y value:', data[1][0]) \n",
    "print('Max y value:', data[1][1]) "
   ]
  },
  {
   "cell_type": "markdown",
   "metadata": {},
   "source": [
    "Normalization formula is as follows:"
   ]
  },
  {
   "cell_type": "code",
   "execution_count": 11,
   "metadata": {},
   "outputs": [
    {
     "data": {
      "image/png": "[encoded data removed]",
      "text/plain": [
       "<IPython.core.display.Image object>"
      ]
     },
     "execution_count": 11,
     "metadata": {},
     "output_type": "execute_result"
    }
   ],
   "source": [
    "Image(filename='normal.png')"
   ]
  },
  {
   "cell_type": "code",
   "execution_count": 13,
   "metadata": {},
   "outputs": [],
   "source": [
    "def find_neighbours(dataset,testset,num): ## this involves calculating the euc distance from the test set to all other train sets, then return the closer ones according to parameter num\n",
    "    distances = []\n",
    "    for i in dataset:\n",
    "        dist = euclidean(testset, i)\n",
    "        distances.append(dist)\n",
    "        ditances = sorted(distances, key=float)\n",
    "        #sorted(distances, key=lambda x: x[1])\n",
    "        #distances.sort(key=lambda tup: tup[1]) ## sort the list from smallest euclidean value to largest, smaller values are closer to testset\n",
    "    neighbours = []\n",
    "    for i in range(num):\n",
    "        neighbours.append(distances[i]) ## if num is 3, we will take the\n",
    "    return neighbours "
   ]
  },
  {
   "cell_type": "code",
   "execution_count": 14,
   "metadata": {},
   "outputs": [
    {
     "name": "stdout",
     "output_type": "stream",
     "text": [
      "[0.0, 2.80769851166859, 0.5177260009197887, 1.7231219074407058, 6.174826117844725, 3.876611681862114]\n"
     ]
    }
   ],
   "source": [
    "# testing find_neighbours\n",
    "print(find_neighbours(dataset,row0,6)) ## the 6 closest elements are as follows"
   ]
  },
  {
   "cell_type": "code",
   "execution_count": 21,
   "metadata": {},
   "outputs": [],
   "source": [
    "def predict_class(train,testdata,num):\n",
    "    neighbours = find_neighbours(train,testdata,num)\n",
    "    output = [row for row in neighbours]\n",
    "    prediction = max(set(output), key=output.count)\n",
    "    return prediction"
   ]
  },
  {
   "cell_type": "code",
   "execution_count": 32,
   "metadata": {},
   "outputs": [
    {
     "name": "stdout",
     "output_type": "stream",
     "text": [
      "0\n"
     ]
    }
   ],
   "source": [
    "classification = predict_class(dataset,row0,3) ## expected 0 classification\n",
    "print(round(classification))"
   ]
  },
  {
   "cell_type": "code",
   "execution_count": 33,
   "metadata": {},
   "outputs": [
    {
     "name": "stdout",
     "output_type": "stream",
     "text": [
      "3\n"
     ]
    }
   ],
   "source": [
    "row3 = dataset[5] ## expected 3 classification\n",
    "class2 = predict_class(dataset,row3,3)\n",
    "print(round(class2))"
   ]
  },
  {
   "cell_type": "markdown",
   "metadata": {},
   "source": [
    "In essence this is what the KNN does, a very simple and intuitive technique. It plots a point on a graph, takes the euclidean distance from that element to other elements in a graph and appends all the distances calculated to a list. The list is then sorted and we have a clear picture of which elements are closest to it. The user can then specify a value of 'k' which must be ODD and then from there we can see which class occurs most in the range specified by the user. The most occuring class will end up occupying the unclassified element and that's it. Very simple and also quite satisfying on how much it actually makes sense."
   ]
  }
 ],
 "metadata": {
  "kernelspec": {
   "display_name": "Python 3",
   "language": "python",
   "name": "python3"
  },
  "language_info": {
   "codemirror_mode": {
    "name": "ipython",
    "version": 3
   },
   "file_extension": ".py",
   "mimetype": "text/x-python",
   "name": "python",
   "nbconvert_exporter": "python",
   "pygments_lexer": "ipython3",
   "version": "3.7.3"
  }
 },
 "nbformat": 4,
 "nbformat_minor": 2
}
